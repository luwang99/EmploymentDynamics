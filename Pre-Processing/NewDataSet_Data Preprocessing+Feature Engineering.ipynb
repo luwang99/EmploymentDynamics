{
 "cells": [
  {
   "cell_type": "code",
   "execution_count": 1,
   "metadata": {},
   "outputs": [],
   "source": [
    "import pandas as pd\n",
    "import numpy as np\n",
    "import matplotlib.pyplot as plt\n",
    "import seaborn as sns"
   ]
  },
  {
   "cell_type": "code",
   "execution_count": 2,
   "metadata": {},
   "outputs": [
    {
     "data": {
      "text/html": [
       "<div>\n",
       "<style scoped>\n",
       "    .dataframe tbody tr th:only-of-type {\n",
       "        vertical-align: middle;\n",
       "    }\n",
       "\n",
       "    .dataframe tbody tr th {\n",
       "        vertical-align: top;\n",
       "    }\n",
       "\n",
       "    .dataframe thead th {\n",
       "        text-align: right;\n",
       "    }\n",
       "</style>\n",
       "<table border=\"1\" class=\"dataframe\">\n",
       "  <thead>\n",
       "    <tr style=\"text-align: right;\">\n",
       "      <th></th>\n",
       "      <th>Unnamed: 0</th>\n",
       "      <th>Unnamed: 0.1</th>\n",
       "      <th>ID</th>\n",
       "      <th>Birth Year</th>\n",
       "      <th>Gender Flag</th>\n",
       "      <th>Skillset1</th>\n",
       "      <th>Skillset1 Weight</th>\n",
       "      <th>Skillset2</th>\n",
       "      <th>Skillset2 Weight</th>\n",
       "      <th>City of profile</th>\n",
       "      <th>...</th>\n",
       "      <th>Length</th>\n",
       "      <th>Role</th>\n",
       "      <th>Dept</th>\n",
       "      <th>Location</th>\n",
       "      <th>Industry</th>\n",
       "      <th>Layoff Date</th>\n",
       "      <th>Company Name</th>\n",
       "      <th>Employees Affected</th>\n",
       "      <th>laid_off</th>\n",
       "      <th>Age</th>\n",
       "    </tr>\n",
       "  </thead>\n",
       "  <tbody>\n",
       "    <tr>\n",
       "      <th>0</th>\n",
       "      <td>0</td>\n",
       "      <td>0</td>\n",
       "      <td>3095f7eb-b536-39ca-8bd4-949a290deed9</td>\n",
       "      <td>1997</td>\n",
       "      <td>2</td>\n",
       "      <td>Web Development</td>\n",
       "      <td>0.874223</td>\n",
       "      <td>Software Engineering</td>\n",
       "      <td>0.075843</td>\n",
       "      <td>NaN</td>\n",
       "      <td>...</td>\n",
       "      <td>61.0</td>\n",
       "      <td>?</td>\n",
       "      <td>NaN</td>\n",
       "      <td>milpitas, ca</td>\n",
       "      <td>Manufacturing</td>\n",
       "      <td>10/23/2015</td>\n",
       "      <td>Western Digital Technologies, Inc.</td>\n",
       "      <td>56</td>\n",
       "      <td>0</td>\n",
       "      <td>21</td>\n",
       "    </tr>\n",
       "    <tr>\n",
       "      <th>1</th>\n",
       "      <td>1</td>\n",
       "      <td>1</td>\n",
       "      <td>3095f7eb-b536-39ca-8bd4-949a290deed9</td>\n",
       "      <td>1997</td>\n",
       "      <td>2</td>\n",
       "      <td>Web Development</td>\n",
       "      <td>0.874223</td>\n",
       "      <td>Software Engineering</td>\n",
       "      <td>0.075843</td>\n",
       "      <td>NaN</td>\n",
       "      <td>...</td>\n",
       "      <td>61.0</td>\n",
       "      <td>?</td>\n",
       "      <td>NaN</td>\n",
       "      <td>milpitas, ca</td>\n",
       "      <td>Manufacturing</td>\n",
       "      <td>10/24/2016</td>\n",
       "      <td>Western Digital Technologies, Inc.</td>\n",
       "      <td>59</td>\n",
       "      <td>0</td>\n",
       "      <td>21</td>\n",
       "    </tr>\n",
       "    <tr>\n",
       "      <th>2</th>\n",
       "      <td>2</td>\n",
       "      <td>2</td>\n",
       "      <td>3095f7eb-b536-39ca-8bd4-949a290deed9</td>\n",
       "      <td>1997</td>\n",
       "      <td>2</td>\n",
       "      <td>Web Development</td>\n",
       "      <td>0.874223</td>\n",
       "      <td>Software Engineering</td>\n",
       "      <td>0.075843</td>\n",
       "      <td>NaN</td>\n",
       "      <td>...</td>\n",
       "      <td>61.0</td>\n",
       "      <td>?</td>\n",
       "      <td>NaN</td>\n",
       "      <td>milpitas, ca</td>\n",
       "      <td>Manufacturing</td>\n",
       "      <td>6/17/2016</td>\n",
       "      <td>Western Digital Technologies, Inc.</td>\n",
       "      <td>71</td>\n",
       "      <td>0</td>\n",
       "      <td>21</td>\n",
       "    </tr>\n",
       "    <tr>\n",
       "      <th>3</th>\n",
       "      <td>3</td>\n",
       "      <td>3</td>\n",
       "      <td>3095f7eb-b536-39ca-8bd4-949a290deed9</td>\n",
       "      <td>1997</td>\n",
       "      <td>2</td>\n",
       "      <td>Web Development</td>\n",
       "      <td>0.874223</td>\n",
       "      <td>Software Engineering</td>\n",
       "      <td>0.075843</td>\n",
       "      <td>NaN</td>\n",
       "      <td>...</td>\n",
       "      <td>61.0</td>\n",
       "      <td>?</td>\n",
       "      <td>NaN</td>\n",
       "      <td>milpitas, ca</td>\n",
       "      <td>Manufacturing</td>\n",
       "      <td>7/3/2016</td>\n",
       "      <td>Western Digital Technologies, Inc.</td>\n",
       "      <td>337</td>\n",
       "      <td>0</td>\n",
       "      <td>21</td>\n",
       "    </tr>\n",
       "    <tr>\n",
       "      <th>4</th>\n",
       "      <td>4</td>\n",
       "      <td>4</td>\n",
       "      <td>3095f7eb-b536-39ca-8bd4-949a290deed9</td>\n",
       "      <td>1997</td>\n",
       "      <td>2</td>\n",
       "      <td>Web Development</td>\n",
       "      <td>0.874223</td>\n",
       "      <td>Software Engineering</td>\n",
       "      <td>0.075843</td>\n",
       "      <td>NaN</td>\n",
       "      <td>...</td>\n",
       "      <td>61.0</td>\n",
       "      <td>?</td>\n",
       "      <td>NaN</td>\n",
       "      <td>milpitas, ca</td>\n",
       "      <td>Manufacturing</td>\n",
       "      <td>8/27/2018</td>\n",
       "      <td>Western Digital Technologies, Inc.</td>\n",
       "      <td>79</td>\n",
       "      <td>0</td>\n",
       "      <td>21</td>\n",
       "    </tr>\n",
       "  </tbody>\n",
       "</table>\n",
       "<p>5 rows × 25 columns</p>\n",
       "</div>"
      ],
      "text/plain": [
       "   Unnamed: 0  Unnamed: 0.1                                    ID  Birth Year  \\\n",
       "0           0             0  3095f7eb-b536-39ca-8bd4-949a290deed9        1997   \n",
       "1           1             1  3095f7eb-b536-39ca-8bd4-949a290deed9        1997   \n",
       "2           2             2  3095f7eb-b536-39ca-8bd4-949a290deed9        1997   \n",
       "3           3             3  3095f7eb-b536-39ca-8bd4-949a290deed9        1997   \n",
       "4           4             4  3095f7eb-b536-39ca-8bd4-949a290deed9        1997   \n",
       "\n",
       "   Gender Flag        Skillset1  Skillset1 Weight             Skillset2  \\\n",
       "0            2  Web Development          0.874223  Software Engineering   \n",
       "1            2  Web Development          0.874223  Software Engineering   \n",
       "2            2  Web Development          0.874223  Software Engineering   \n",
       "3            2  Web Development          0.874223  Software Engineering   \n",
       "4            2  Web Development          0.874223  Software Engineering   \n",
       "\n",
       "   Skillset2 Weight City of profile  ... Length  Role  Dept      Location  \\\n",
       "0          0.075843             NaN  ...   61.0     ?   NaN  milpitas, ca   \n",
       "1          0.075843             NaN  ...   61.0     ?   NaN  milpitas, ca   \n",
       "2          0.075843             NaN  ...   61.0     ?   NaN  milpitas, ca   \n",
       "3          0.075843             NaN  ...   61.0     ?   NaN  milpitas, ca   \n",
       "4          0.075843             NaN  ...   61.0     ?   NaN  milpitas, ca   \n",
       "\n",
       "        Industry  Layoff Date                        Company Name  \\\n",
       "0  Manufacturing   10/23/2015  Western Digital Technologies, Inc.   \n",
       "1  Manufacturing   10/24/2016  Western Digital Technologies, Inc.   \n",
       "2  Manufacturing    6/17/2016  Western Digital Technologies, Inc.   \n",
       "3  Manufacturing     7/3/2016  Western Digital Technologies, Inc.   \n",
       "4  Manufacturing    8/27/2018  Western Digital Technologies, Inc.   \n",
       "\n",
       "  Employees Affected laid_off Age  \n",
       "0                 56        0  21  \n",
       "1                 59        0  21  \n",
       "2                 71        0  21  \n",
       "3                337        0  21  \n",
       "4                 79        0  21  \n",
       "\n",
       "[5 rows x 25 columns]"
      ]
     },
     "execution_count": 2,
     "metadata": {},
     "output_type": "execute_result"
    }
   ],
   "source": [
    "data = pd.read_csv(r'C:\\Ran\\Berkeley\\IEOR\\290\\Project\\Data\\New Data\\newdata1.csv')\n",
    "data.head()"
   ]
  },
  {
   "cell_type": "code",
   "execution_count": 3,
   "metadata": {},
   "outputs": [
    {
     "name": "stdout",
     "output_type": "stream",
     "text": [
      "<class 'pandas.core.frame.DataFrame'>\n",
      "RangeIndex: 110082 entries, 0 to 110081\n",
      "Data columns (total 25 columns):\n",
      "Unnamed: 0            110082 non-null int64\n",
      "Unnamed: 0.1          110082 non-null int64\n",
      "ID                    110082 non-null object\n",
      "Birth Year            110082 non-null int64\n",
      "Gender Flag           110082 non-null int64\n",
      "Skillset1             110082 non-null object\n",
      "Skillset1 Weight      110082 non-null float64\n",
      "Skillset2             110082 non-null object\n",
      "Skillset2 Weight      110082 non-null float64\n",
      "City of profile       99845 non-null object\n",
      "Country of profile    110082 non-null object\n",
      "Education             110082 non-null int64\n",
      "Elite Institution     110082 non-null int64\n",
      "Start Date            110082 non-null object\n",
      "End Date              110082 non-null object\n",
      "Length                110069 non-null float64\n",
      "Role                  110082 non-null object\n",
      "Dept                  68867 non-null object\n",
      "Location              60438 non-null object\n",
      "Industry              110082 non-null object\n",
      "Layoff Date           110082 non-null object\n",
      "Company Name          110082 non-null object\n",
      "Employees Affected    110082 non-null int64\n",
      "laid_off              110082 non-null int64\n",
      "Age                   110082 non-null int64\n",
      "dtypes: float64(3), int64(9), object(13)\n",
      "memory usage: 21.0+ MB\n"
     ]
    }
   ],
   "source": [
    "data.info()"
   ]
  },
  {
   "cell_type": "code",
   "execution_count": 6,
   "metadata": {},
   "outputs": [],
   "source": [
    "# drop useless features\n",
    "data = data.drop(['Dummy1','Dummy2','Dummy3','Dummy4','EliteFlag','DegreeType','EducationFlag','PublicFlag','Exchange','Ticker','Company_Norm','Company','StartFlag','EndFlag','CurrentEmployFlag','Unnamed: 0'],axis = 1)\n"
   ]
  },
  {
   "cell_type": "code",
   "execution_count": 7,
   "metadata": {},
   "outputs": [
    {
     "name": "stdout",
     "output_type": "stream",
     "text": [
      "<class 'pandas.core.frame.DataFrame'>\n",
      "RangeIndex: 131484 entries, 0 to 131483\n",
      "Data columns (total 22 columns):\n",
      "ID                    131484 non-null object\n",
      "Birth Year            131484 non-null object\n",
      "Gender Flag           131484 non-null int64\n",
      "Skillset1             131484 non-null object\n",
      "Skillset1 Weight      131484 non-null float64\n",
      "Skillset2             131484 non-null object\n",
      "Skillset2 Weight      131484 non-null float64\n",
      "City of profile       119068 non-null object\n",
      "Country of profile    131484 non-null object\n",
      "Education             131484 non-null int64\n",
      "Elite Institution     131484 non-null bool\n",
      "Start Date            131484 non-null object\n",
      "End Date              131484 non-null object\n",
      "Length                131471 non-null float64\n",
      "Role                  131484 non-null object\n",
      "Dept                  84820 non-null object\n",
      "Location              85229 non-null object\n",
      "Industry              119261 non-null float64\n",
      "Layoff Date           131484 non-null object\n",
      "Company Name          131484 non-null object\n",
      "Employees Affected    131484 non-null int64\n",
      "laid_off              131484 non-null int64\n",
      "dtypes: bool(1), float64(4), int64(4), object(13)\n",
      "memory usage: 21.2+ MB\n"
     ]
    }
   ],
   "source": [
    "data.info()"
   ]
  },
  {
   "cell_type": "markdown",
   "metadata": {},
   "source": [
    "# Feature Engineering"
   ]
  },
  {
   "cell_type": "markdown",
   "metadata": {},
   "source": [
    "## Age"
   ]
  },
  {
   "cell_type": "code",
   "execution_count": 8,
   "metadata": {},
   "outputs": [
    {
     "data": {
      "text/plain": [
       "Birth Year    97\n",
       "dtype: int64"
      ]
     },
     "execution_count": 8,
     "metadata": {},
     "output_type": "execute_result"
    }
   ],
   "source": [
    "# convert birth year to age\n",
    "# count how many None in Birth Year\n",
    "data[['Birth Year']].eq('None').sum()"
   ]
  },
  {
   "cell_type": "code",
   "execution_count": 9,
   "metadata": {},
   "outputs": [],
   "source": [
    "# Delete the rows where birth year = None and convert to age\n",
    "data = data[data['Birth Year']!='None']\n",
    "data['Age'] = 2018 - data['Birth Year'].astype('int')"
   ]
  },
  {
   "cell_type": "markdown",
   "metadata": {},
   "source": [
    "## Elite Institute"
   ]
  },
  {
   "cell_type": "code",
   "execution_count": 10,
   "metadata": {},
   "outputs": [],
   "source": [
    "# convert true and flase to 1 and 0\n",
    "data['Elite Institution'] = data['Elite Institution'].astype('uint8')"
   ]
  },
  {
   "cell_type": "markdown",
   "metadata": {},
   "source": [
    "## Skillset"
   ]
  },
  {
   "cell_type": "code",
   "execution_count": 11,
   "metadata": {},
   "outputs": [],
   "source": [
    "data['Skillset1'] = data['Skillset1'].astype(str)\n",
    "data['Skillset2'] = data['Skillset2'].astype(str)"
   ]
  },
  {
   "cell_type": "code",
   "execution_count": 12,
   "metadata": {},
   "outputs": [],
   "source": [
    "data.loc[data['Skillset1'].str.contains('Human Resources',case = False),'Skillset1'] = 'Human Resources'\n",
    "data.loc[data['Skillset2'].str.contains('Human Resources',case = False),'Skillset2'] = 'Human Resources'\n",
    "data.loc[data['Skillset1'].str.contains('Coaching',case = False),'Skillset1'] = 'Human Resources'\n",
    "data.loc[data['Skillset2'].str.contains('Coaching',case = False),'Skillset2'] = 'Human Resources'\n",
    "data.loc[data['Skillset1'].str.contains('Education',case = False),'Skillset1'] = 'Human Resources'\n",
    "data.loc[data['Skillset2'].str.contains('Education',case = False),'Skillset2'] = 'Human Resources'\n",
    "data.loc[data['Skillset1'].str.contains('Recruiting',case = False),'Skillset1'] = 'Human Resources'\n",
    "data.loc[data['Skillset2'].str.contains('Recruiting',case = False),'Skillset2'] = 'Human Resources'"
   ]
  },
  {
   "cell_type": "code",
   "execution_count": 13,
   "metadata": {},
   "outputs": [],
   "source": [
    "data.loc[data['Skillset1'].str.contains('Sales' or 'CRM',case = False),'Skillset1'] = 'Sales'\n",
    "data.loc[data['Skillset2'].str.contains('Sales' or 'CRM',case = False),'Skillset2'] = 'Sales'"
   ]
  },
  {
   "cell_type": "code",
   "execution_count": 14,
   "metadata": {},
   "outputs": [],
   "source": [
    "data.loc[data['Skillset1'].str.contains('Construction',case = False),'Skillset1'] = 'Industrial Management'\n",
    "data.loc[data['Skillset2'].str.contains('Construction',case = False),'Skillset2'] = 'Industrial Management'"
   ]
  },
  {
   "cell_type": "code",
   "execution_count": 15,
   "metadata": {},
   "outputs": [],
   "source": [
    "data.loc[data['Skillset1'].str.contains('Product Management',case = False),'Skillset1'] = 'Product Management'\n",
    "data.loc[data['Skillset2'].str.contains('Product Management',case = False),'Skillset2'] = 'Product Management'"
   ]
  },
  {
   "cell_type": "code",
   "execution_count": 16,
   "metadata": {},
   "outputs": [],
   "source": [
    "data.loc[data['Skillset1'].str.contains('Middle Management',case = False),'Skillset1'] = 'Administration'\n",
    "data.loc[data['Skillset2'].str.contains('Middle Management',case = False),'Skillset2'] = 'Administration'"
   ]
  },
  {
   "cell_type": "code",
   "execution_count": 17,
   "metadata": {},
   "outputs": [],
   "source": [
    "data.loc[data['Skillset1'].str.contains('Pharmaceutical',case = False),'Skillset1'] = 'Healthcare'\n",
    "data.loc[data['Skillset2'].str.contains('Pharmaceutical',case = False),'Skillset2'] = 'Healthcare'"
   ]
  },
  {
   "cell_type": "code",
   "execution_count": 18,
   "metadata": {},
   "outputs": [],
   "source": [
    "data.loc[data['Skillset1'].str.contains('Accounting',case = False),'Skillset1'] = 'Finance'\n",
    "data.loc[data['Skillset2'].str.contains('Accounting',case = False),'Skillset2'] = 'Finance'\n",
    "data.loc[data['Skillset1'].str.contains('Banking',case = False),'Skillset1'] = 'Finance'\n",
    "data.loc[data['Skillset2'].str.contains('Banking',case = False),'Skillset2'] = 'Finance'"
   ]
  },
  {
   "cell_type": "code",
   "execution_count": 19,
   "metadata": {},
   "outputs": [],
   "source": [
    "data.loc[data['Skillset1'].str.contains('Graphic',case = False),'Skillset1'] = 'Design'\n",
    "data.loc[data['Skillset2'].str.contains('Graphic',case = False),'Skillset2'] = 'Design'\n",
    "data.loc[data['Skillset1'].str.contains('Visual',case = False),'Skillset1'] = 'Design'\n",
    "data.loc[data['Skillset2'].str.contains('Visual',case = False),'Skillset2'] = 'Design'"
   ]
  },
  {
   "cell_type": "code",
   "execution_count": 20,
   "metadata": {},
   "outputs": [
    {
     "data": {
      "text/plain": [
       "array(['Web Development', 'Web Design', 'Administration',\n",
       "       'Software Engineering', 'Data Analysis', 'Human Resources',\n",
       "       'Finance', 'Product Management', 'Sales', 'Electrical Engineering',\n",
       "       'Digital Marketing', 'Mobile Telecommunications', 'Legal',\n",
       "       'Operations Management', 'Healthcare', 'Design',\n",
       "       'Manufacturing and Process Management', 'Business Development',\n",
       "       'Hospitality', 'Real Estate', 'Retail and Fashion', 'Logistics',\n",
       "       'Video and Film Production', 'Insurance',\n",
       "       'IT Management and Support', 'Social Media and Communications',\n",
       "       'Non-Profit and Community', 'Military', 'Musical Production',\n",
       "       'Public Policy', 'Industrial Management', 'Energy, Oil, and Gas'],\n",
       "      dtype=object)"
      ]
     },
     "execution_count": 20,
     "metadata": {},
     "output_type": "execute_result"
    }
   ],
   "source": [
    "data['Skillset1'].unique()"
   ]
  },
  {
   "cell_type": "code",
   "execution_count": 21,
   "metadata": {},
   "outputs": [
    {
     "data": {
      "text/plain": [
       "array(['Software Engineering', 'Digital Marketing', 'Real Estate',\n",
       "       'Web Development', 'Administration', 'Design', 'Data Analysis',\n",
       "       'Mobile Telecommunications', 'Sales', 'IT Management and Support',\n",
       "       'Business Development', 'Logistics', 'Human Resources', 'Finance',\n",
       "       'Web Design', 'Video and Film Production',\n",
       "       'Non-Profit and Community', 'Electrical Engineering', 'Healthcare',\n",
       "       'Operations Management', 'Product Management',\n",
       "       'Manufacturing and Process Management', 'Insurance',\n",
       "       'Social Media and Communications', 'Retail and Fashion', 'Legal',\n",
       "       'Hospitality', 'Military', 'Musical Production',\n",
       "       'Industrial Management', 'Public Policy', 'Energy, Oil, and Gas'],\n",
       "      dtype=object)"
      ]
     },
     "execution_count": 21,
     "metadata": {},
     "output_type": "execute_result"
    }
   ],
   "source": [
    "data['Skillset2'].unique()"
   ]
  },
  {
   "cell_type": "code",
   "execution_count": 4,
   "metadata": {},
   "outputs": [
    {
     "data": {
      "text/html": [
       "<div>\n",
       "<style scoped>\n",
       "    .dataframe tbody tr th:only-of-type {\n",
       "        vertical-align: middle;\n",
       "    }\n",
       "\n",
       "    .dataframe tbody tr th {\n",
       "        vertical-align: top;\n",
       "    }\n",
       "\n",
       "    .dataframe thead th {\n",
       "        text-align: right;\n",
       "    }\n",
       "</style>\n",
       "<table border=\"1\" class=\"dataframe\">\n",
       "  <thead>\n",
       "    <tr style=\"text-align: right;\">\n",
       "      <th></th>\n",
       "      <th>Unnamed: 0</th>\n",
       "      <th>Unnamed: 0.1</th>\n",
       "      <th>ID</th>\n",
       "      <th>Birth Year</th>\n",
       "      <th>Gender Flag</th>\n",
       "      <th>Skillset1 Weight</th>\n",
       "      <th>Skillset2 Weight</th>\n",
       "      <th>City of profile</th>\n",
       "      <th>Country of profile</th>\n",
       "      <th>Education</th>\n",
       "      <th>...</th>\n",
       "      <th>s2-Product Management</th>\n",
       "      <th>s2-Public Policy</th>\n",
       "      <th>s2-Real Estate</th>\n",
       "      <th>s2-Retail and Fashion</th>\n",
       "      <th>s2-Sales</th>\n",
       "      <th>s2-Social Media and Communications</th>\n",
       "      <th>s2-Software Engineering</th>\n",
       "      <th>s2-Video and Film Production</th>\n",
       "      <th>s2-Web Design</th>\n",
       "      <th>s2-Web Development</th>\n",
       "    </tr>\n",
       "  </thead>\n",
       "  <tbody>\n",
       "    <tr>\n",
       "      <th>0</th>\n",
       "      <td>0</td>\n",
       "      <td>0</td>\n",
       "      <td>3095f7eb-b536-39ca-8bd4-949a290deed9</td>\n",
       "      <td>1997</td>\n",
       "      <td>2</td>\n",
       "      <td>0.874223</td>\n",
       "      <td>0.075843</td>\n",
       "      <td>NaN</td>\n",
       "      <td>United States</td>\n",
       "      <td>4</td>\n",
       "      <td>...</td>\n",
       "      <td>0</td>\n",
       "      <td>0</td>\n",
       "      <td>0</td>\n",
       "      <td>0</td>\n",
       "      <td>0</td>\n",
       "      <td>0</td>\n",
       "      <td>1</td>\n",
       "      <td>0</td>\n",
       "      <td>0</td>\n",
       "      <td>0</td>\n",
       "    </tr>\n",
       "    <tr>\n",
       "      <th>1</th>\n",
       "      <td>1</td>\n",
       "      <td>1</td>\n",
       "      <td>3095f7eb-b536-39ca-8bd4-949a290deed9</td>\n",
       "      <td>1997</td>\n",
       "      <td>2</td>\n",
       "      <td>0.874223</td>\n",
       "      <td>0.075843</td>\n",
       "      <td>NaN</td>\n",
       "      <td>United States</td>\n",
       "      <td>4</td>\n",
       "      <td>...</td>\n",
       "      <td>0</td>\n",
       "      <td>0</td>\n",
       "      <td>0</td>\n",
       "      <td>0</td>\n",
       "      <td>0</td>\n",
       "      <td>0</td>\n",
       "      <td>1</td>\n",
       "      <td>0</td>\n",
       "      <td>0</td>\n",
       "      <td>0</td>\n",
       "    </tr>\n",
       "    <tr>\n",
       "      <th>2</th>\n",
       "      <td>2</td>\n",
       "      <td>2</td>\n",
       "      <td>3095f7eb-b536-39ca-8bd4-949a290deed9</td>\n",
       "      <td>1997</td>\n",
       "      <td>2</td>\n",
       "      <td>0.874223</td>\n",
       "      <td>0.075843</td>\n",
       "      <td>NaN</td>\n",
       "      <td>United States</td>\n",
       "      <td>4</td>\n",
       "      <td>...</td>\n",
       "      <td>0</td>\n",
       "      <td>0</td>\n",
       "      <td>0</td>\n",
       "      <td>0</td>\n",
       "      <td>0</td>\n",
       "      <td>0</td>\n",
       "      <td>1</td>\n",
       "      <td>0</td>\n",
       "      <td>0</td>\n",
       "      <td>0</td>\n",
       "    </tr>\n",
       "    <tr>\n",
       "      <th>3</th>\n",
       "      <td>3</td>\n",
       "      <td>3</td>\n",
       "      <td>3095f7eb-b536-39ca-8bd4-949a290deed9</td>\n",
       "      <td>1997</td>\n",
       "      <td>2</td>\n",
       "      <td>0.874223</td>\n",
       "      <td>0.075843</td>\n",
       "      <td>NaN</td>\n",
       "      <td>United States</td>\n",
       "      <td>4</td>\n",
       "      <td>...</td>\n",
       "      <td>0</td>\n",
       "      <td>0</td>\n",
       "      <td>0</td>\n",
       "      <td>0</td>\n",
       "      <td>0</td>\n",
       "      <td>0</td>\n",
       "      <td>1</td>\n",
       "      <td>0</td>\n",
       "      <td>0</td>\n",
       "      <td>0</td>\n",
       "    </tr>\n",
       "    <tr>\n",
       "      <th>4</th>\n",
       "      <td>4</td>\n",
       "      <td>4</td>\n",
       "      <td>3095f7eb-b536-39ca-8bd4-949a290deed9</td>\n",
       "      <td>1997</td>\n",
       "      <td>2</td>\n",
       "      <td>0.874223</td>\n",
       "      <td>0.075843</td>\n",
       "      <td>NaN</td>\n",
       "      <td>United States</td>\n",
       "      <td>4</td>\n",
       "      <td>...</td>\n",
       "      <td>0</td>\n",
       "      <td>0</td>\n",
       "      <td>0</td>\n",
       "      <td>0</td>\n",
       "      <td>0</td>\n",
       "      <td>0</td>\n",
       "      <td>1</td>\n",
       "      <td>0</td>\n",
       "      <td>0</td>\n",
       "      <td>0</td>\n",
       "    </tr>\n",
       "  </tbody>\n",
       "</table>\n",
       "<p>5 rows × 87 columns</p>\n",
       "</div>"
      ],
      "text/plain": [
       "   Unnamed: 0  Unnamed: 0.1                                    ID  Birth Year  \\\n",
       "0           0             0  3095f7eb-b536-39ca-8bd4-949a290deed9        1997   \n",
       "1           1             1  3095f7eb-b536-39ca-8bd4-949a290deed9        1997   \n",
       "2           2             2  3095f7eb-b536-39ca-8bd4-949a290deed9        1997   \n",
       "3           3             3  3095f7eb-b536-39ca-8bd4-949a290deed9        1997   \n",
       "4           4             4  3095f7eb-b536-39ca-8bd4-949a290deed9        1997   \n",
       "\n",
       "   Gender Flag  Skillset1 Weight  Skillset2 Weight City of profile  \\\n",
       "0            2          0.874223          0.075843             NaN   \n",
       "1            2          0.874223          0.075843             NaN   \n",
       "2            2          0.874223          0.075843             NaN   \n",
       "3            2          0.874223          0.075843             NaN   \n",
       "4            2          0.874223          0.075843             NaN   \n",
       "\n",
       "  Country of profile  Education  ...  s2-Product Management s2-Public Policy  \\\n",
       "0      United States          4  ...                      0                0   \n",
       "1      United States          4  ...                      0                0   \n",
       "2      United States          4  ...                      0                0   \n",
       "3      United States          4  ...                      0                0   \n",
       "4      United States          4  ...                      0                0   \n",
       "\n",
       "  s2-Real Estate  s2-Retail and Fashion s2-Sales  \\\n",
       "0              0                      0        0   \n",
       "1              0                      0        0   \n",
       "2              0                      0        0   \n",
       "3              0                      0        0   \n",
       "4              0                      0        0   \n",
       "\n",
       "  s2-Social Media and Communications s2-Software Engineering  \\\n",
       "0                                  0                       1   \n",
       "1                                  0                       1   \n",
       "2                                  0                       1   \n",
       "3                                  0                       1   \n",
       "4                                  0                       1   \n",
       "\n",
       "  s2-Video and Film Production s2-Web Design s2-Web Development  \n",
       "0                            0             0                  0  \n",
       "1                            0             0                  0  \n",
       "2                            0             0                  0  \n",
       "3                            0             0                  0  \n",
       "4                            0             0                  0  \n",
       "\n",
       "[5 rows x 87 columns]"
      ]
     },
     "execution_count": 4,
     "metadata": {},
     "output_type": "execute_result"
    }
   ],
   "source": [
    "# Enode skill set\n",
    "# use one-hot encoding to encode skillsets\n",
    "encodeSkill1 = pd.get_dummies(data['Skillset1'], prefix = 's1', prefix_sep='-')\n",
    "encodeSkill2 = pd.get_dummies(data['Skillset2'], prefix = 's2', prefix_sep='-') \n",
    "data = data.drop(['Skillset1','Skillset2'], axis = 1)\n",
    "data = data.join(encodeSkill1) \n",
    "data = data.join(encodeSkill2)\n",
    "data.head()"
   ]
  },
  {
   "cell_type": "code",
   "execution_count": 5,
   "metadata": {},
   "outputs": [],
   "source": [
    "data.to_csv(r'C:\\Ran\\Berkeley\\IEOR\\290\\Project\\Data\\New Data\\newData2.csv')"
   ]
  },
  {
   "cell_type": "code",
   "execution_count": null,
   "metadata": {},
   "outputs": [],
   "source": []
  }
 ],
 "metadata": {
  "kernelspec": {
   "display_name": "Python 3",
   "language": "python",
   "name": "python3"
  },
  "language_info": {
   "codemirror_mode": {
    "name": "ipython",
    "version": 3
   },
   "file_extension": ".py",
   "mimetype": "text/x-python",
   "name": "python",
   "nbconvert_exporter": "python",
   "pygments_lexer": "ipython3",
   "version": "3.6.8"
  }
 },
 "nbformat": 4,
 "nbformat_minor": 2
}
